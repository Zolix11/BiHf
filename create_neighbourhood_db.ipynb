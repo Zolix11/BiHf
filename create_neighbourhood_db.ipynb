{
 "cells": [
  {
   "cell_type": "code",
   "execution_count": null,
   "metadata": {},
   "outputs": [],
   "source": [
    "! pip install geopandas"
   ]
  },
  {
   "cell_type": "code",
   "execution_count": 1,
   "metadata": {},
   "outputs": [],
   "source": [
    "import pandas as pd"
   ]
  },
  {
   "cell_type": "code",
   "execution_count": 4,
   "metadata": {},
   "outputs": [
    {
     "name": "stdout",
     "output_type": "stream",
     "text": [
      "   id                    name\n",
      "0   1         Adams-Normandie\n",
      "1   2                  Arleta\n",
      "2   3       Arlington Heights\n",
      "3   4         Atwater Village\n",
      "4   5  Baldwin Hills/Crenshaw\n"
     ]
    }
   ],
   "source": [
    "neighbourhood_data = pd.read_csv(\"la_neighbourhoods.csv\")\n",
    "\n",
    "neighbourhood_data.rename(columns={\"OBJECTID\": \"id\"}, inplace=True)\n",
    "\n",
    "print(neighbourhood_data.head())"
   ]
  },
  {
   "cell_type": "code",
   "execution_count": null,
   "metadata": {},
   "outputs": [
    {
     "name": "stdout",
     "output_type": "stream",
     "text": [
      "Neighbourhood data inserted 114 successfully!\n"
     ]
    }
   ],
   "source": [
    "from sqlalchemy import create_engine, MetaData, Table, Column, Integer, String\n",
    "\n",
    "DATABASE_URI = \"mssql+pyodbc://localhost/LosAngelesData?driver=ODBC+Driver+17+for+SQL+Server&Trusted_Connection=yes\"\n",
    "engine = create_engine(DATABASE_URI)\n",
    "\n",
    "metadata = MetaData()\n",
    "\n",
    "neighbourhood_data_table = Table(\n",
    "    \"NeighbourhoodData\",\n",
    "    metadata,\n",
    "    Column(\"id\", Integer, primary_key=True, nullable=False),  # OBJECTID as primary key\n",
    "    Column(\"name\", String, nullable=False),  # Neighbourhood name\n",
    ")\n",
    "\n",
    "metadata.drop_all(engine, [neighbourhood_data_table])\n",
    "metadata.create_all(engine)\n",
    "\n",
    "inserted_row_count = 0\n",
    "try:\n",
    "    with engine.connect() as conn:\n",
    "        result = conn.execute(neighbourhood_data_table.insert(), neighbourhood_data.to_dict(orient=\"records\"))\n",
    "        conn.commit()\n",
    "        inserted_row_count += result.rowcount\n",
    "except Exception as e:\n",
    "    print(f\"Error: {e}\")\n",
    "\n",
    "\n",
    "print(f\"Neighbourhood data inserted {inserted_row_count} successfully!\")\n",
    "\n"
   ]
  }
 ],
 "metadata": {
  "kernelspec": {
   "display_name": "Python 3",
   "language": "python",
   "name": "python3"
  },
  "language_info": {
   "codemirror_mode": {
    "name": "ipython",
    "version": 3
   },
   "file_extension": ".py",
   "mimetype": "text/x-python",
   "name": "python",
   "nbconvert_exporter": "python",
   "pygments_lexer": "ipython3",
   "version": "3.12.2"
  }
 },
 "nbformat": 4,
 "nbformat_minor": 2
}
